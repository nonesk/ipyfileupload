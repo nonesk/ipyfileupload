{
 "cells": [
  {
   "cell_type": "code",
   "execution_count": 17,
   "metadata": {},
   "outputs": [
    {
     "data": {
      "application/vnd.jupyter.widget-view+json": {
       "model_id": "493c4c1a5998431fbe7812de84b69815",
       "version_major": 2,
       "version_minor": 0
      },
      "text/html": [
       "<p>Failed to display Jupyter Widget of type <code>FileUploadWidget</code>.</p>\n",
       "<p>\n",
       "  If you're reading this message in the Jupyter Notebook or JupyterLab Notebook, it may mean\n",
       "  that the widgets JavaScript is still loading. If this message persists, it\n",
       "  likely means that the widgets JavaScript library is either not installed or\n",
       "  not enabled. See the <a href=\"https://ipywidgets.readthedocs.io/en/stable/user_install.html\">Jupyter\n",
       "  Widgets Documentation</a> for setup instructions.\n",
       "</p>\n",
       "<p>\n",
       "  If you're reading this message in another frontend (for example, a static\n",
       "  rendering on GitHub or <a href=\"https://nbviewer.jupyter.org/\">NBViewer</a>),\n",
       "  it may mean that your frontend doesn't currently support widgets.\n",
       "</p>\n"
      ],
      "text/plain": [
       "FileUploadWidget(label='Browse', _dom_classes=('widget_item', 'btn-group'))"
      ]
     },
     "metadata": {},
     "output_type": "display_data"
    }
   ],
   "source": [
    "import ipyfileupload\n",
    "from IPython.display import display\n",
    "\n",
    "display(ipyfileupload.FileUploadWidget())"
   ]
  },
  {
   "cell_type": "code",
   "execution_count": 18,
   "metadata": {},
   "outputs": [
    {
     "data": {
      "application/vnd.jupyter.widget-view+json": {
       "model_id": "2aa009a2e9324d1093c29a5d0ce3d640",
       "version_major": 2,
       "version_minor": 0
      },
      "text/html": [
       "<p>Failed to display Jupyter Widget of type <code>FileUploadWidget</code>.</p>\n",
       "<p>\n",
       "  If you're reading this message in the Jupyter Notebook or JupyterLab Notebook, it may mean\n",
       "  that the widgets JavaScript is still loading. If this message persists, it\n",
       "  likely means that the widgets JavaScript library is either not installed or\n",
       "  not enabled. See the <a href=\"https://ipywidgets.readthedocs.io/en/stable/user_install.html\">Jupyter\n",
       "  Widgets Documentation</a> for setup instructions.\n",
       "</p>\n",
       "<p>\n",
       "  If you're reading this message in another frontend (for example, a static\n",
       "  rendering on GitHub or <a href=\"https://nbviewer.jupyter.org/\">NBViewer</a>),\n",
       "  it may mean that your frontend doesn't currently support widgets.\n",
       "</p>\n"
      ],
      "text/plain": [
       "FileUploadWidget(label='Browse', _dom_classes=('widget_item', 'btn-group'))"
      ]
     },
     "metadata": {},
     "output_type": "display_data"
    },
    {
     "name": "stdout",
     "output_type": "stream",
     "text": [
      "Uploaded `requirements.txt` (0.81 kB)\n",
      "bleach==2.1.1\n",
      "\n",
      "certifi==2017.11.5\n",
      "\n",
      "chardet==3.0.4\n",
      "\n",
      "decorator==4.1.2\n",
      "\n",
      "docopt==0.6.2\n",
      "\n",
      "entrypoints==0.2.3\n",
      "\n",
      "html5lib==1.0b10\n",
      "\n",
      "idna==2.6\n",
      "\n",
      "ipykernel==4.6.1\n",
      "\n",
      "ipython==6.2.1\n",
      "\n",
      "ipython-genutils==0.2.0\n",
      "\n",
      "ipywidgets==7.0.5\n",
      "\n",
      "jedi==0.11.0\n",
      "\n",
      "Jinja2==2.10\n",
      "\n",
      "jsonschema==2.6.0\n",
      "\n",
      "jupyter==1.0.0\n",
      "\n",
      "jupyter-client==5.1.0\n",
      "\n",
      "jupyter-console==5.2.0\n",
      "\n",
      "jupyter-core==4.4.0\n",
      "\n",
      "MarkupSafe==1.0\n",
      "\n",
      "mistune==0.8.1\n",
      "\n",
      "nbconvert==5.3.1\n",
      "\n",
      "nbformat==4.4.0\n",
      "\n",
      "networkx==2.0\n",
      "\n",
      "notebook==5.2.1\n",
      "\n",
      "numpy==1.13.3\n",
      "\n",
      "pandocfilters==1.4.2\n",
      "\n",
      "parso==0.1.0\n",
      "\n",
      "pexpect==4.3.0\n",
      "\n",
      "pickleshare==0.7.4\n",
      "\n",
      "plotly==2.2.2\n",
      "\n",
      "prompt-toolkit==1.0.15\n",
      "\n",
      "ptyprocess==0.5.2\n",
      "\n",
      "Pygments==2.2.0\n",
      "\n",
      "python-dateutil==2.6.1\n",
      "\n",
      "pytz==2017.3\n",
      "\n",
      "pyzmq==16.0.3\n",
      "\n",
      "qtconsole==4.3.1\n",
      "\n",
      "requests==2.18.4\n",
      "\n",
      "simplegeneric==0.8.1\n",
      "\n",
      "six==1.11.0\n",
      "\n",
      "terminado==0.8.1\n",
      "\n",
      "testpath==0.3.1\n",
      "\n",
      "tornado==4.5.2\n",
      "\n",
      "traitlets==4.3.2\n",
      "\n",
      "urllib3==1.22\n",
      "\n",
      "wcwidth==0.1.7\n",
      "\n",
      "webencodings==0.5.1\n",
      "\n",
      "widgetsnbextension==3.0.8\n",
      "\n"
     ]
    }
   ],
   "source": [
    "import io\n",
    "\n",
    "def _upload():\n",
    "\n",
    "    _upload_widget = ipyfileupload.FileUploadWidget()\n",
    "\n",
    "    def _cb(change):\n",
    "        decoded = io.StringIO(change['owner'].data.decode('utf-8'))\n",
    "        filename = change['owner'].filename\n",
    "        print('Uploaded `{}` ({:.2f} kB)'.format(\n",
    "            filename, len(decoded.read()) / 2 **10))\n",
    "        decoded.seek(0)\n",
    "        for line in decoded:\n",
    "            print(line)\n",
    "\n",
    "    _upload_widget.observe(_cb, names='data')\n",
    "    display(_upload_widget)\n",
    "\n",
    "_upload()"
   ]
  },
  {
   "cell_type": "code",
   "execution_count": 6,
   "metadata": {},
   "outputs": [
    {
     "name": "stdout",
     "output_type": "stream",
     "text": [
      "True\n"
     ]
    }
   ],
   "source": [
    "import sys\n",
    "import os\n",
    "\n",
    "print(os.path.isdir('/tmp/'))\n",
    "\n",
    "with open(\"/tmp/biatch\", 'w') as biatch:\n",
    "    print(\"kanar\", file=biatch)"
   ]
  }
 ],
 "metadata": {
  "kernelspec": {
   "display_name": "ipywidgets",
   "language": "python",
   "name": "ipywidgets"
  },
  "language_info": {
   "codemirror_mode": {
    "name": "ipython",
    "version": 3
   },
   "file_extension": ".py",
   "mimetype": "text/x-python",
   "name": "python",
   "nbconvert_exporter": "python",
   "pygments_lexer": "ipython3",
   "version": "3.5.2"
  }
 },
 "nbformat": 4,
 "nbformat_minor": 2
}
